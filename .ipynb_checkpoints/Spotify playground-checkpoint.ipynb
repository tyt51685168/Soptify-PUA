{
 "cells": [
  {
   "cell_type": "code",
   "execution_count": 302,
   "metadata": {},
   "outputs": [],
   "source": [
    "import spotipy\n",
    "from spotipy.oauth2 import SpotifyClientCredentials\n",
    "import os # 讀取 env 的 id & secret\n",
    "import time\n",
    "\n",
    "# 記得在設定完環境變數後要重開 vscode，才不會一直以為自己沒設定成功\n",
    "id = os.environ.get('spotify_id')\n",
    "secret = os.environ.get('spotify_secret')\n",
    "\n",
    "# API 連接\n",
    "spotify = spotipy.Spotify(client_credentials_manager=SpotifyClientCredentials(client_id=id, client_secret=secret))\n",
    "\n",
    "# 目標 playlist\n",
    "playlist_url = 'spotify:playlist:3tHNK2aH1KJoKkgK91osfF'"
   ]
  },
  {
   "cell_type": "code",
   "execution_count": 303,
   "metadata": {},
   "outputs": [
    {
     "name": "stdout",
     "output_type": "stream",
     "text": [
      "高端渣男把妹開車必聽: 渣dao自己都想對自己犯罪\n",
      "865人按讚。共133首歌\n"
     ]
    }
   ],
   "source": [
    "# show playlist info\n",
    "def show_playlist_info(playlist_uri):\n",
    "    playlist_data = spotify.playlist(playlist_url)\n",
    "    thumbups = playlist_data['followers']['total']\n",
    "    number_of_songs = playlist_data['tracks']['total']\n",
    "\n",
    "    print(f\"{playlist_data['name']}: {playlist_data['description']}\")\n",
    "    print(f\"{thumbups}人按讚。共{number_of_songs}首歌\")\n",
    "          \n",
    "show_playlist_info(playlist_url)"
   ]
  },
  {
   "cell_type": "code",
   "execution_count": 419,
   "metadata": {},
   "outputs": [],
   "source": [
    "import pandas as pd\n",
    "\n",
    "class playlist_info:\n",
    "    \n",
    "    def __init__(self, playlist_uri=None):\n",
    "        self.playlist_uri = playlist_uri\n",
    "        self.track = spotify.playlist_tracks(self.playlist_uri)\n",
    "\n",
    "    def get_contents(self):\n",
    "        \"\"\"\n",
    "        照著 playlist 順序取出 song name & artists name\n",
    "        \"\"\"\n",
    "        df = pd.DataFrame(columns = ['song_name', 'singer', 'song_uri', 'singer_uri'])\n",
    "        \n",
    "        for song in self.track['items']:          \n",
    "            song_name = song['track']['name']\n",
    "            song_uri = song['track']['uri']        \n",
    "            for i in range(len(song['track']['artists'])):\n",
    "                singer_name = song['track']['artists'][i]['name']\n",
    "                singer_uri = song['track']['artists'][i]['uri']\n",
    "                \n",
    "            insert_row = pd.Series({\n",
    "                'song_name': song_name,\n",
    "                'singer': singer_name,\n",
    "                'song_uri': song_uri,\n",
    "                'singer_uri': singer_uri\n",
    "            })\n",
    "            \n",
    "            df = df.append(insert_row, ignore_index=True)\n",
    "                \n",
    "        return df"
   ]
  },
  {
   "cell_type": "code",
   "execution_count": 427,
   "metadata": {},
   "outputs": [
    {
     "data": {
      "text/plain": [
       "9m88           5\n",
       "王以太            4\n",
       "ØZI            4\n",
       "瘦子E.SO         4\n",
       "壞特 ?te         2\n",
       "Jony J         2\n",
       "Julia Wu       2\n",
       "婁峻碩            2\n",
       "Z.TAO          2\n",
       "Lil Ghost小鬼    2\n",
       "高爾宣 OSN        2\n",
       "唐貓 SUGARCAT    2\n",
       "Kris Wu        2\n",
       "Jinbo          1\n",
       "蔣小呢            1\n",
       "Name: singer, dtype: int64"
      ]
     },
     "execution_count": 427,
     "metadata": {},
     "output_type": "execute_result"
    }
   ],
   "source": [
    "pua = playlist_info(playlist_url)\n",
    "pua.get_contents()['singer'].value_counts().head(15)"
   ]
  }
 ],
 "metadata": {
  "kernelspec": {
   "display_name": "Python 3",
   "language": "python",
   "name": "python3"
  },
  "language_info": {
   "codemirror_mode": {
    "name": "ipython",
    "version": 3
   },
   "file_extension": ".py",
   "mimetype": "text/x-python",
   "name": "python",
   "nbconvert_exporter": "python",
   "pygments_lexer": "ipython3",
   "version": "3.7.3"
  }
 },
 "nbformat": 4,
 "nbformat_minor": 2
}
